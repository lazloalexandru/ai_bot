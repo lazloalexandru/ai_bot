{
  "nbformat": 4,
  "nbformat_minor": 0,
  "metadata": {
    "colab": {
      "name": "Maximum likelihood estimation and TensorFlow Probability.ipynb",
      "provenance": [],
      "authorship_tag": "ABX9TyNhHCr7nVNPeLvXuECfTsZu",
      "include_colab_link": true
    },
    "kernelspec": {
      "name": "python3",
      "display_name": "Python 3"
    }
  },
  "cells": [
    {
      "cell_type": "markdown",
      "metadata": {
        "id": "view-in-github",
        "colab_type": "text"
      },
      "source": [
        "<a href=\"https://colab.research.google.com/github/adventuresinML/adventures-in-ml-code/blob/master/Maximum_likelihood_estimation_and_TensorFlow_Probability.ipynb\" target=\"_parent\"><img src=\"https://colab.research.google.com/assets/colab-badge.svg\" alt=\"Open In Colab\"/></a>"
      ]
    },
    {
      "cell_type": "code",
      "metadata": {
        "id": "ZyMipbqcsMex"
      },
      "source": [
        "import tensorflow as tf\n",
        "import tensorflow_probability as tfp\n",
        "import numpy as np\n",
        "import matplotlib.pylab as plt\n",
        "tfd = tfp.distributions"
      ],
      "execution_count": null,
      "outputs": []
    },
    {
      "cell_type": "code",
      "metadata": {
        "id": "2jFHlKEWtHZg"
      },
      "source": [
        "x_range = np.arange(0, 10, 0.1)\n",
        "grad = 2.0\n",
        "intercept = 3.0\n",
        "lin_reg = x_range * grad + np.random.normal(0, 3.0, len(x_range)) + intercept"
      ],
      "execution_count": null,
      "outputs": []
    },
    {
      "cell_type": "code",
      "metadata": {
        "id": "2vwj8twvwmHP",
        "outputId": "d13a096f-4c29-4e6d-d23d-b1c3845b52b3",
        "colab": {
          "base_uri": "https://localhost:8080/",
          "height": 265
        }
      },
      "source": [
        "plt.scatter(x_range, lin_reg)\n",
        "plt.show()"
      ],
      "execution_count": null,
      "outputs": [
        {
          "output_type": "display_data",
          "data": {
            "image/png": "[encoded data removed]",
            "text/plain": [
              "<Figure size 432x288 with 1 Axes>"
            ]
          },
          "metadata": {
            "tags": [],
            "needs_background": "light"
          }
        }
      ]
    },
    {
      "cell_type": "code",
      "metadata": {
        "id": "74xnWt8wx7hs"
      },
      "source": [
        "def neg_log_likelihood(y_actual, y_predict):\n",
        "  return -y_predict.log_prob(y_actual)"
      ],
      "execution_count": null,
      "outputs": []
    },
    {
      "cell_type": "code",
      "metadata": {
        "id": "jWkl84sQw2Zu"
      },
      "source": [
        "model = tf.keras.Sequential([\n",
        "  tf.keras.layers.Dense(1),\n",
        "  tfp.layers.DistributionLambda(lambda x: tfd.Normal(loc=x, scale=1)),\n",
        "])"
      ],
      "execution_count": null,
      "outputs": []
    },
    {
      "cell_type": "code",
      "metadata": {
        "id": "VFpVcBLXxzvt",
        "outputId": "1e263606-9201-423c-f947-6658e039d530",
        "colab": {
          "base_uri": "https://localhost:8080/",
          "height": 34
        }
      },
      "source": [
        "model.compile(optimizer=tf.optimizers.Adam(learning_rate=0.05), loss=neg_log_likelihood)\n",
        "model.fit(x_range, lin_reg, epochs=500, verbose=False)"
      ],
      "execution_count": null,
      "outputs": [
        {
          "output_type": "execute_result",
          "data": {
            "text/plain": [
              "<tensorflow.python.keras.callbacks.History at 0x7fb04ef76240>"
            ]
          },
          "metadata": {
            "tags": []
          },
          "execution_count": 11
        }
      ]
    },
    {
      "cell_type": "code",
      "metadata": {
        "id": "gjiz-h2-yUms"
      },
      "source": [
        "yhat = model(x_range)"
      ],
      "execution_count": null,
      "outputs": []
    },
    {
      "cell_type": "code",
      "metadata": {
        "id": "xW_fqfjUy3qu"
      },
      "source": [
        "mean = yhat.mean()"
      ],
      "execution_count": null,
      "outputs": []
    },
    {
      "cell_type": "code",
      "metadata": {
        "id": "Ces2-0Ery6LW",
        "outputId": "1e5a0638-98fc-436b-acc7-1b80c1deb3b9",
        "colab": {
          "base_uri": "https://localhost:8080/",
          "height": 265
        }
      },
      "source": [
        "plt.close(\"all\")\n",
        "plt.scatter(x_range, lin_reg)\n",
        "plt.plot(x_range, mean, label='predicted')\n",
        "plt.plot(x_range, x_range * grad + intercept, label='ground truth')\n",
        "plt.legend(loc=\"upper left\")\n",
        "plt.show()"
      ],
      "execution_count": null,
      "outputs": [
        {
          "output_type": "display_data",
          "data": {
            "image/png": "[encoded data removed]",
            "text/plain": [
              "<Figure size 432x288 with 1 Axes>"
            ]
          },
          "metadata": {
            "tags": [],
            "needs_background": "light"
          }
        }
      ]
    },
    {
      "cell_type": "markdown",
      "metadata": {
        "id": "LWCpOYzh30pO"
      },
      "source": [
        "### Estimate std deviation also"
      ]
    },
    {
      "cell_type": "code",
      "metadata": {
        "id": "GP8-N3u3741l"
      },
      "source": [
        "def noise(x, grad=0.5, const=2.0):\n",
        "  return np.random.normal(0, grad * x + const)"
      ],
      "execution_count": null,
      "outputs": []
    },
    {
      "cell_type": "code",
      "metadata": {
        "id": "d5DM9s2W5A3m"
      },
      "source": [
        "x_range = np.arange(0, 10, 0.1)\n",
        "noise = np.array(list(map(noise, x_range)))\n",
        "grad = 2.0\n",
        "intercept = 3.0\n",
        "lin_reg = x_range * grad + intercept + noise"
      ],
      "execution_count": null,
      "outputs": []
    },
    {
      "cell_type": "code",
      "metadata": {
        "id": "H2iNjYct8mo1",
        "outputId": "e71e1469-7510-4838-fe84-e529d9471266",
        "colab": {
          "base_uri": "https://localhost:8080/",
          "height": 266
        }
      },
      "source": [
        "plt.scatter(x_range, lin_reg)\n",
        "plt.show()"
      ],
      "execution_count": null,
      "outputs": [
        {
          "output_type": "display_data",
          "data": {
            "image/png": "[encoded data removed]",
            "text/plain": [
              "<Figure size 432x288 with 1 Axes>"
            ]
          },
          "metadata": {
            "tags": [],
            "needs_background": "light"
          }
        }
      ]
    },
    {
      "cell_type": "code",
      "metadata": {
        "id": "2x9KcQ7c3--E"
      },
      "source": [
        "model = tf.keras.Sequential([\n",
        "  tf.keras.layers.Dense(2),\n",
        "  tfp.layers.DistributionLambda(lambda x: tfd.Normal(loc=x[:, 0], scale=1e-3 + tf.math.softplus(0.3 * x[:, 1]))),\n",
        "])"
      ],
      "execution_count": null,
      "outputs": []
    },
    {
      "cell_type": "code",
      "metadata": {
        "id": "h1BPjVTV4RQx",
        "outputId": "6a19d191-fadc-45dd-f805-984b4706511c",
        "colab": {
          "base_uri": "https://localhost:8080/",
          "height": 34
        }
      },
      "source": [
        "model.compile(optimizer=tf.optimizers.Adam(), loss=neg_log_likelihood)\n",
        "model.fit(x_range, lin_reg, epochs=1000, verbose=False)"
      ],
      "execution_count": null,
      "outputs": [
        {
          "output_type": "execute_result",
          "data": {
            "text/plain": [
              "<tensorflow.python.keras.callbacks.History at 0x7f87be38a588>"
            ]
          },
          "metadata": {
            "tags": []
          },
          "execution_count": 254
        }
      ]
    },
    {
      "cell_type": "code",
      "metadata": {
        "id": "n1MsZ8er4G6_"
      },
      "source": [
        "yhat = model(x_range)"
      ],
      "execution_count": null,
      "outputs": []
    },
    {
      "cell_type": "code",
      "metadata": {
        "id": "DLaIeFmI4LQH"
      },
      "source": [
        "mean = yhat.mean()\n",
        "upper = mean + 2 * yhat.stddev()\n",
        "lower = mean - 2 * yhat.stddev()"
      ],
      "execution_count": null,
      "outputs": []
    },
    {
      "cell_type": "code",
      "metadata": {
        "id": "r2nUmC9p4bno",
        "outputId": "e1fa889a-ebe4-4fe6-979c-0ece7009766b",
        "colab": {
          "base_uri": "https://localhost:8080/",
          "height": 265
        }
      },
      "source": [
        "plt.close(\"all\")\n",
        "plt.scatter(x_range, lin_reg)\n",
        "plt.plot(x_range, mean, label='predicted')\n",
        "plt.fill_between(x_range, lower, upper, alpha=0.1)\n",
        "plt.plot(x_range, x_range * grad + intercept, label='ground truth')\n",
        "plt.legend(loc=\"upper left\")\n",
        "plt.show()"
      ],
      "execution_count": null,
      "outputs": [
        {
          "output_type": "display_data",
          "data": {
            "image/png": "[encoded data removed]",
            "text/plain": [
              "<Figure size 432x288 with 1 Axes>"
            ]
          },
          "metadata": {
            "tags": [],
            "needs_background": "light"
          }
        }
      ]
    },
    {
      "cell_type": "code",
      "metadata": {
        "id": "9CeNtU0F4rCB",
        "outputId": "8c0c93de-05dd-484c-fe03-2c28a7b7b368",
        "colab": {
          "base_uri": "https://localhost:8080/",
          "height": 51
        }
      },
      "source": [
        "model.weights"
      ],
      "execution_count": null,
      "outputs": [
        {
          "output_type": "execute_result",
          "data": {
            "text/plain": [
              "[<tf.Variable 'dense_35/kernel:0' shape=(1, 2) dtype=float32, numpy=array([[2.2931483, 2.4196053]], dtype=float32)>,\n",
              " <tf.Variable 'dense_35/bias:0' shape=(2,) dtype=float32, numpy=array([2.3962705, 2.2277684], dtype=float32)>]"
            ]
          },
          "metadata": {
            "tags": []
          },
          "execution_count": 258
        }
      ]
    }
  ]
}